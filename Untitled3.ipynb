{
 "cells": [
  {
   "cell_type": "code",
   "execution_count": 1,
   "id": "a93bb6d8",
   "metadata": {},
   "outputs": [
    {
     "name": "stdout",
     "output_type": "stream",
     "text": [
      "\t f'(x)\t\t err\t\t f''(x)\t\t err\n"
     ]
    }
   ],
   "source": [
    "import numpy as np\n",
    "f = lambda x: 0.1*x**5 - 0.2*x**3 + 0.1*x -0.2\n",
    "\n",
    "x = 0.1\n",
    "h = 0.1\n",
    "\n",
    "df1 = 0.09405\n",
    "df2 = -0.118\n",
    "\n",
    "\n",
    "print(\"\\t f'(x)\\t\\t err\\t\\t f''(x)\\t\\t err\")"
   ]
  },
  {
   "cell_type": "code",
   "execution_count": 2,
   "id": "fa563bc2",
   "metadata": {},
   "outputs": [
    {
     "name": "stdout",
     "output_type": "stream",
     "text": [
      "FFD\t 0.086310\t-0.007740\t-0.222000\t-0.104000\n"
     ]
    }
   ],
   "source": [
    "# forward difference\n",
    "\n",
    "dff1 = (f(x+h)  -  f(x))/h\n",
    "dff2 = (f(x+2*h) - 2*f(x+h) + f(x))/h**2\n",
    "print(\"FFD\\t% f\\t% f\\t% f\\t% f\"%(dff1,dff1-df1,dff2,dff2-df2))"
   ]
  },
  {
   "cell_type": "code",
   "execution_count": 5,
   "id": "22d177af",
   "metadata": {},
   "outputs": [
    {
     "name": "stdout",
     "output_type": "stream",
     "text": [
      "BFD\t 0.098010\t 0.003960\t 0.000000\t 0.118000\n"
     ]
    }
   ],
   "source": [
    "# backward difference\n",
    "\n",
    "dff1 = (f(x) - f(x-h))/h\n",
    "dff2 = (f(x) - 2*f(x-h) + f(x-2*h) )/h**2\n",
    "print(\"BFD\\t% f\\t% f\\t% f\\t% f\"%(dff1,dff1-df1,dff2,dff2-df2))"
   ]
  },
  {
   "cell_type": "code",
   "execution_count": 6,
   "id": "63e3005e",
   "metadata": {},
   "outputs": [
    {
     "name": "stdout",
     "output_type": "stream",
     "text": [
      "CFD\t 0.092160\t-0.001890\t-0.117000\t 0.001000\n"
     ]
    }
   ],
   "source": [
    "#  central differences\n",
    "\n",
    "dff1 = (f(x+h) - f(x-h))/(2*h)\n",
    "dff2 = (f(x+h) -  2*f(x) + f(x-h))/h**2\n",
    "print(\"CFD\\t% f\\t% f\\t% f\\t% f\"%(dff1,dff1-df1,dff2,dff2-df2))"
   ]
  },
  {
   "cell_type": "code",
   "execution_count": 7,
   "id": "4778064c",
   "metadata": {},
   "outputs": [
    {
     "name": "stdout",
     "output_type": "stream",
     "text": [
      "\t f'(x)\t\t err\t\t f''(x)\t\t err\n",
      "FFD\t 0.086310\t-0.007740\t-0.222000\t-0.104000\n",
      "BFD\t 0.098010\t 0.003960\t 0.000000\t 0.118000\n",
      "CFD\t 0.092160\t-0.001890\t-0.117000\t 0.001000\n"
     ]
    }
   ],
   "source": [
    "import numpy as np\n",
    "f = lambda x: 0.1*x**5 - 0.2*x**3 + 0.1*x -0.2\n",
    "\n",
    "x = 0.1\n",
    "h = 0.1\n",
    "\n",
    "df1 = 0.09405\n",
    "df2 = -0.118\n",
    "\n",
    "\n",
    "print(\"\\t f'(x)\\t\\t err\\t\\t f''(x)\\t\\t err\")\n",
    "\n",
    "# forward difference\n",
    "\n",
    "dff1 = (f(x+h)  -  f(x))/h\n",
    "dff2 = (f(x+2*h) - 2*f(x+h) + f(x))/h**2\n",
    "print(\"FFD\\t% f\\t% f\\t% f\\t% f\"%(dff1,dff1-df1,dff2,dff2-df2))\n",
    "\n",
    "# backward difference\n",
    "\n",
    "dff1 = (f(x) - f(x-h))/h\n",
    "dff2 = (f(x) - 2*f(x-h) + f(x-2*h) )/h**2\n",
    "print(\"BFD\\t% f\\t% f\\t% f\\t% f\"%(dff1,dff1-df1,dff2,dff2-df2))\n",
    "\n",
    "#  central differences\n",
    "\n",
    "dff1 = (f(x+h) - f(x-h))/(2*h)\n",
    "dff2 = (f(x+h) -  2*f(x) + f(x-h))/h**2\n",
    "print(\"CFD\\t% f\\t% f\\t% f\\t% f\"%(dff1,dff1-df1,dff2,dff2-df2))"
   ]
  },
  {
   "cell_type": "code",
   "execution_count": null,
   "id": "e1650a3f",
   "metadata": {},
   "outputs": [],
   "source": []
  }
 ],
 "metadata": {
  "kernelspec": {
   "display_name": "Python 3 (ipykernel)",
   "language": "python",
   "name": "python3"
  },
  "language_info": {
   "codemirror_mode": {
    "name": "ipython",
    "version": 3
   },
   "file_extension": ".py",
   "mimetype": "text/x-python",
   "name": "python",
   "nbconvert_exporter": "python",
   "pygments_lexer": "ipython3",
   "version": "3.9.7"
  }
 },
 "nbformat": 4,
 "nbformat_minor": 5
}
